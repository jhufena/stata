{
 "cells": [
  {
   "cell_type": "markdown",
   "metadata": {},
   "source": [
    "# Overview\n",
    "\n",
    "1. School wide [committee](https://my.jhsph.edu/Resources/CourseResources/Deadlines/Pages/default.aspx) on academic standards\n",
    "2. Course worksheet for new course applications\n",
    "3. Fran (FranBurman@jhu.edu) and Colleen (chanrah1@jhmi.edu)\n",
    "4. Once you have syllabus and basic details \n",
    "   - Objectives\n",
    "   - Materials\n",
    "   - Assessments\n",
    "5. Reach out to the epi curriculum chair\n",
    "   - Schedule time\n",
    "   - You'll present\n",
    "   - Meet monthly\n",
    "   - Approval smooth\n",
    "   - Timeline for approval? \n",
    "6. Hanrahan\n",
    "   - Let us know when youre at the point \n",
    "   - Of having materials to share \n",
    "   - With the Epi Curriculum Committee"
   ]
  }
 ],
 "metadata": {
  "kernelspec": {
   "display_name": "Python 3",
   "language": "python",
   "name": "python3"
  },
  "language_info": {
   "codemirror_mode": {
    "name": "ipython",
    "version": 3
   },
   "file_extension": ".py",
   "mimetype": "text/x-python",
   "name": "python",
   "nbconvert_exporter": "python",
   "pygments_lexer": "ipython3",
   "version": "3.11.2"
  },
  "orig_nbformat": 4
 },
 "nbformat": 4,
 "nbformat_minor": 2
}
