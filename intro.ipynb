{
 "cells": [
  {
   "cell_type": "markdown",
   "metadata": {},
   "source": [
    "# Agents\n",
    "- Hungry: aka, `Client` -> user/agent/requester\n",
    "- Waiter: aka, `API` -> command/verb/options\n",
    "- Chef: aka, `Server`-> object/target/pizza\n",
    "\n",
    "# Places\n",
    "Waiter: What would you like to have?   \n",
    "Customer: I would like to have a pizza.   \n",
    "Waiter: What kind of pizza would you like to have?   \n",
    "Customer: I would like to have a pizza with cheese.   \n",
    "Waiter: What size of pizza would you like to have?   \n",
    "Customer: I would like to have a large pizza.   \n",
    "Waiter: What kind of drink would you like to have?   \n",
    "Customer: I would like to have a coke.  \n",
    "Waiter: What size of coke would you like to have?    \n",
    "Customer: I would like to have a large coke. \n",
    "\n",
    "1. Hey, Sam!    \n",
    "2. Order for 2 adults and 1 kid:    \n",
    "3. 1 Veggie wrap, 3 Tacos, and 1 Kid's meal.  \n",
    "   - Could you include all sides and sauces for the wraps and tacos?\n",
    "   - Please include a toy for the kid's meal.\n",
    "   - We would like to have 2 large cokes and 1 sprite.\n",
    "\n",
    "# Times\n",
    "**Request**: A client is a piece of computer hardware or software that accesses a service made available by a server. The server is often (but not always) on another computer system, in which case the client accesses the service by way of a network.\n",
    "\n",
    "**Communicator** (think: Honeygrow&reg;): An API is a set of functions and procedures that allow the creation of applications which access the features or data of an operating system, application, or other service.\n",
    "\n",
    "**Product/Service**: A server is a computer program or a device that provides functionality for other programs or devices, called \"clients\". This architecture is called the client–server model."
   ]
  }
 ],
 "metadata": {
  "kernelspec": {
   "display_name": "Python 3",
   "language": "python",
   "name": "python3"
  },
  "language_info": {
   "codemirror_mode": {
    "name": "ipython",
    "version": 3
   },
   "file_extension": ".py",
   "mimetype": "text/x-python",
   "name": "python",
   "nbconvert_exporter": "python",
   "pygments_lexer": "ipython3",
   "version": "3.11.2"
  },
  "orig_nbformat": 4
 },
 "nbformat": 4,
 "nbformat_minor": 2
}
