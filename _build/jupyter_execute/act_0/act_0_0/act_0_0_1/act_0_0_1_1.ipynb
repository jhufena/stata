{
 "cells": [
  {
   "cell_type": "markdown",
   "metadata": {},
   "source": [
    "# Prediction = Combos + Build\n",
    "\n",
    "1. Place: restaurant may anticipate your order and have combos ready to order (e.g. McDonalds)\n",
    "2. Agent: you may add to your order (e.g. add fries to your burger) or remove from your order (e.g. no pickles)\n",
    "3. Time: in this case you may use an app, drive thru, or walk in to order"
   ]
  }
 ],
 "metadata": {
  "kernelspec": {
   "display_name": "Python 3",
   "language": "python",
   "name": "python3"
  },
  "language_info": {
   "codemirror_mode": {
    "name": "ipython",
    "version": 3
   },
   "file_extension": ".py",
   "mimetype": "text/x-python",
   "name": "python",
   "nbconvert_exporter": "python",
   "pygments_lexer": "ipython3",
   "version": "3.11.2"
  }
 },
 "nbformat": 4,
 "nbformat_minor": 2
}